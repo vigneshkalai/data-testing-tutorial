{
 "cells": [
  {
   "cell_type": "markdown",
   "metadata": {
    "slideshow": {
     "slide_type": "slide"
    }
   },
   "source": [
    "# `py.test`\n",
    "\n",
    "> The pytest framework makes it easy to write small tests, yet scales to support complex functional testing for applications and libraries."
   ]
  },
  {
   "cell_type": "markdown",
   "metadata": {
    "slideshow": {
     "slide_type": "fragment"
    }
   },
   "source": [
    "Features:\n",
    "\n",
    "- All tests are pre-fixed with `test_`.\n",
    "- All files containing tests are prefixed with `test_`. \n",
    "- This is basically **testing made for humans.**"
   ]
  },
  {
   "cell_type": "markdown",
   "metadata": {
    "slideshow": {
     "slide_type": "slide"
    }
   },
   "source": [
    "## Toy Example: increment\n",
    "\n",
    "I will code this live with you. Code along with me.\n",
    "\n",
    "- Create a Python module called `datafuncs.py`. We will be adding functions to this module as we go along.\n",
    "- Inside `datafuncs.py`, write a function name `increment(x)`, which increments `x` by 1, and returns the result."
   ]
  },
  {
   "cell_type": "markdown",
   "metadata": {
    "slideshow": {
     "slide_type": "subslide"
    }
   },
   "source": [
    "```python\n",
    "# in datafuncs.py\n",
    "def increment(x):\n",
    "    return x + 1\n",
    "```"
   ]
  },
  {
   "cell_type": "markdown",
   "metadata": {
    "slideshow": {
     "slide_type": "subslide"
    }
   },
   "source": [
    "## Process\n",
    "\n",
    "- Create a new Python module called `test_datafuncs.py`. We will be adding tests to this module as we go along.\n",
    "- Inside `test_datafuncs.py`, write the following test for the `increment(x)` function."
   ]
  },
  {
   "cell_type": "markdown",
   "metadata": {
    "slideshow": {
     "slide_type": "subslide"
    }
   },
   "source": [
    "```python\n",
    "# in test_datafuncs.py\n",
    "import datafuncs as dfn\n",
    "def test_increment():\n",
    "    assert dfn.increment(2) != 3\n",
    "```"
   ]
  },
  {
   "cell_type": "markdown",
   "metadata": {
    "slideshow": {
     "slide_type": "subslide"
    }
   },
   "source": [
    "Now, in your terminal, execute the following command:\n",
    "\n",
    "```bash\n",
    "$ py.test\n",
    "```"
   ]
  },
  {
   "cell_type": "markdown",
   "metadata": {
    "slideshow": {
     "slide_type": "subslide"
    }
   },
   "source": [
    "This is the output you should expect:\n",
    "\n",
    "```bash\n",
    "============================= test session starts ==============================\n",
    "platform darwin -- Python 3.6.1, pytest-3.0.7, py-1.4.33, pluggy-0.4.0\n",
    "rootdir: /Users/ericmjl/github/tutorials/data-testing-tutorial, inifile:\n",
    "collected 1 items\n",
    "\n",
    "test_datafuncs.py F\n",
    "\n",
    "=================================== FAILURES ===================================\n",
    "________________________________ test_increment ________________________________\n",
    "\n",
    "    def test_increment():\n",
    ">       assert dfn.increment(2) != 3\n",
    "E       assert 3 != 3\n",
    "E        +  where 3 = <function increment at 0x10eaf7378>(2)\n",
    "E        +    where <function increment at 0x10eaf7378> = dfn.increment\n",
    "\n",
    "test_datafuncs.py:3: AssertionError\n",
    "=========================== 1 failed in 0.06 seconds ===========================\n",
    "```"
   ]
  },
  {
   "cell_type": "markdown",
   "metadata": {
    "slideshow": {
     "slide_type": "subslide"
    }
   },
   "source": [
    "Let's break down the output for you, to make this simpler.\n",
    "\n",
    "Firstly, the header.\n",
    "\n",
    "```bash\n",
    "============================= test session starts ==============================\n",
    "platform darwin -- Python 3.6.1, pytest-3.0.7, py-1.4.33, pluggy-0.4.0\n",
    "rootdir: /Users/ericmjl/github/tutorials/data-testing-tutorial, inifile:\n",
    "collected 1 items\n",
    "\n",
    "test_datafuncs.py F\n",
    "```\n",
    "\n",
    "- The `collected 1 items` indicates how many test functions were written.\n",
    "- The bottom line contains `test_datafuncs.py`, and is the file that contains the tests. You are allowed to have multiple files that contain tests.\n",
    "- The `F` indicates that there was a test function that failed. The only two outputs you need to be concerned with right now are `F` and `.` (dot).\n"
   ]
  },
  {
   "cell_type": "markdown",
   "metadata": {
    "slideshow": {
     "slide_type": "subslide"
    }
   },
   "source": [
    "Next, let's look at the FAILURES section.\n",
    "\n",
    "```bash\n",
    "=================================== FAILURES ===================================\n",
    "________________________________ test_increment ________________________________\n",
    "\n",
    "    def test_increment():\n",
    ">       assert dfn.increment(2) != 3\n",
    "E       assert 3 != 3\n",
    "E        +  where 3 = <function increment at 0x10eaf7378>(2)\n",
    "E        +    where <function increment at 0x10eaf7378> = dfn.increment\n",
    "\n",
    "test_datafuncs.py:3: AssertionError\n",
    "=========================== 1 failed in 0.06 seconds ===========================\n",
    "```\n",
    "\n",
    "- The function that failed is in the `___ test_increment ___` header.\n",
    "- The line that failed is indicated by a `>` (greater than) symbol.\n",
    "- The details of what errored out are indicated on each line that has an `E` symbol. We use this information to figure out how a test failed."
   ]
  },
  {
   "cell_type": "markdown",
   "metadata": {
    "slideshow": {
     "slide_type": "subslide"
    }
   },
   "source": [
    "Congratulations! You wrote your first failed test! With py.test, you have a command that automatically finds tests, executes them, and reports where they fail.\n",
    "\n",
    "Questions so far?\n",
    "\n",
    "Now, go fix the test such that it works correctly."
   ]
  },
  {
   "cell_type": "markdown",
   "metadata": {
    "collapsed": true,
    "slideshow": {
     "slide_type": "fragment"
    }
   },
   "source": [
    "```python\n",
    "def test_increment():\n",
    "    assert dfn.increment(2) == 3\n",
    "```"
   ]
  },
  {
   "cell_type": "markdown",
   "metadata": {
    "slideshow": {
     "slide_type": "subslide"
    }
   },
   "source": [
    "And then re-run that test.\n",
    "\n",
    "```bash\n",
    "$ py.test\n",
    "```"
   ]
  },
  {
   "cell_type": "markdown",
   "metadata": {
    "slideshow": {
     "slide_type": "subslide"
    }
   },
   "source": [
    "If everything passes, it should look like the following terminal output.\n",
    "\n",
    "```bash\n",
    "============================= test session starts ==============================\n",
    "platform darwin -- Python 3.6.1, pytest-3.0.7, py-1.4.33, pluggy-0.4.0\n",
    "rootdir: /Users/ericmjl/github/tutorials/data-testing-tutorial, inifile:\n",
    "collected 1 items\n",
    "\n",
    "test_datafuncs.py .\n",
    "\n",
    "=========================== 1 passed in 0.02 seconds ===========================\n",
    "```"
   ]
  },
  {
   "cell_type": "markdown",
   "metadata": {},
   "source": [
    "# What's going on?!\n",
    "\n",
    "- `py.test` recursively searches for all files and functions with the prefix `test_`.\n",
    "- **Testing for Humans!**"
   ]
  },
  {
   "cell_type": "markdown",
   "metadata": {
    "slideshow": {
     "slide_type": "subslide"
    }
   },
   "source": [
    "## Exercise\n",
    "\n",
    "Now, if the function changes (say, by accident), you can find out by running the test suite. \n",
    "\n",
    "Actually, let's make that change. Make any modification to the `increment()` function that causes the `test_increment()` function to fail, e.g. change the return statement to `return x`, or `return x-1`. Then, re-run the tests using the `py.test` command.\n",
    "\n",
    "Finally, fix the function and confirm that the tests pass."
   ]
  },
  {
   "cell_type": "markdown",
   "metadata": {
    "slideshow": {
     "slide_type": "subslide"
    }
   },
   "source": [
    "## Anatomy of a Test\n",
    "\n",
    "Let's revise now what the anatomy of a test is like.\n",
    "\n",
    "```python\n",
    "from module import function\n",
    "def test_function():  # `test_` is key here.\n",
    "    assert function(input_val) == correct_val, \"error\"    # assertion statement\n",
    "    assert function(input_val) != incorrect_val  # counter-example\n",
    "```"
   ]
  },
  {
   "cell_type": "markdown",
   "metadata": {
    "slideshow": {
     "slide_type": "subslide"
    }
   },
   "source": [
    "## Testing Loop\n",
    "\n",
    "And now, the testing loop:\n",
    "\n",
    "1. Write a test for a function.\n",
    "1. Write the function.\n",
    "1. Execute `pytest`.\n",
    "1. Go back to step 1.\n",
    "\n",
    "There's nothing complex behind the ideas of testing, 80% of your cases will boil down to doing this loop."
   ]
  },
  {
   "cell_type": "markdown",
   "metadata": {
    "slideshow": {
     "slide_type": "slide"
    }
   },
   "source": [
    "## Exercise: Min-Max Scaler\n",
    "\n",
    "In `datafuncs.py`, we are going to implement a function called `min_max_scaler(x)` for your data. It should take in a `numpy` array and scale all of the values to be between 0 and 1 inclusive. The min value should be 0, and the max value should be 1.\n",
    "\n",
    "First begin by writing tests for the min-max scaler. It should check the following:\n",
    "\n",
    "- Given a particular array-like input (e.g. numpy array, list, tuples), it should be equal to some other array. Use the `np.allclose(arr1, arr2)` function to test closeness of two floating point values.\n",
    "- The minimum value should be 0, and the maximum value of the output should be 1.\n",
    "\n",
    "**Note:** This function is also implemented in the `scikit-learn` library as part of their `preprocessing` module. However, in case an engineering decision that you make is that you don't want to import an entire library just to use one function, you can re-implement it on your own."
   ]
  },
  {
   "cell_type": "markdown",
   "metadata": {
    "slideshow": {
     "slide_type": "subslide"
    }
   },
   "source": [
    "Here is a possible test for the `min_max_scaler(x)` function.\n",
    "\n",
    "```python\n",
    "import numpy as np\n",
    "\n",
    "# in test_datafuncs.py\n",
    "def test_min_max_scaler():\n",
    "    arr = np.array([1, 2, 3])  # set up the test with necessary variables.\n",
    "    tfm = dfn.min_max_scaler(arr)  # collect the result into a variable\n",
    "    assert tfm == np.array([0, 0.5, 1])  # assertion statements\n",
    "    assert tfm.min() == 0  \n",
    "    assert tfm.max() == 1\n",
    "```"
   ]
  },
  {
   "cell_type": "markdown",
   "metadata": {},
   "source": [
    "Now, based on the specifications, write a minimum implementation of the `min_max_scaler(x)` function. This function should take the `numpy` array `x`, and scale all of the values to between 0 and 1 inclusive, with the minimum value being 0 and the maximum value being 1."
   ]
  },
  {
   "cell_type": "markdown",
   "metadata": {},
   "source": [
    "```python\n",
    "import numpy as np\n",
    "def min_max_scaler(x):\n",
    "    \"\"\"\n",
    "    Returns a numpy array with all of the original values scaled between 0 and 1.\n",
    "    \n",
    "    Assumes the data are a numpy array.\n",
    "    \"\"\"\n",
    "    if hasattr(x, __iter__) and not isinstance(x, np.array):\n",
    "        x = np.array(x)\n",
    "    return (x - x.min()) / (x.max() - x.min())\n",
    "```"
   ]
  },
  {
   "cell_type": "markdown",
   "metadata": {},
   "source": [
    "Now, let's think of a few edge cases. Where could this function fail?"
   ]
  },
  {
   "cell_type": "markdown",
   "metadata": {},
   "source": [
    "- I pass in a single number (integer, float). \n",
    "- I pass in an empty iterable.\n",
    "- I pass in an iterable that contains only a single value."
   ]
  },
  {
   "cell_type": "markdown",
   "metadata": {
    "slideshow": {
     "slide_type": "subslide"
    }
   },
   "source": [
    "## Testing that a function should fail\n",
    "\n",
    "Use the `with pytest.raises(ErrorType)` context manager."
   ]
  },
  {
   "cell_type": "markdown",
   "metadata": {
    "slideshow": {
     "slide_type": "subslide"
    }
   },
   "source": [
    "```python\n",
    "import pytest\n",
    "import numpy as np\n",
    "\n",
    "def test_min_max_scaler():\n",
    "    arr = np.array([1, 2, 3])  # set up the test with necessary variables.\n",
    "    tfm = dfn.min_max_scaler(arr)  # collect the result into a variable\n",
    "    # Correctness tests\n",
    "    assert np.allclose(tfm, np.array([0, 0.5, 1]))  # assertion statements\n",
    "    assert tfm.min() == 0  \n",
    "    assert tfm.max() == 1\n",
    "\n",
    "    # min_max_scaler(x) should fail if an integer is passed in.\n",
    "    with pytest.raises(AttributeError):  \n",
    "        dfn.min_max_scaler(2)\n",
    "        dfn.min_max_scaler([])\n",
    "        dfn.min_max_scaler([15])\n",
    "```"
   ]
  },
  {
   "cell_type": "markdown",
   "metadata": {
    "slideshow": {
     "slide_type": "slide"
    }
   },
   "source": [
    "## Step back\n",
    "\n",
    "- With tests, you're basically encoding your expectations of a function in code.\n",
    "- The tests you've written so far might not necessarily cover all cases, but they can cover the 80% of failures that might happen.\n",
    "- There are more powerful ways to write tests, will come later."
   ]
  },
  {
   "cell_type": "markdown",
   "metadata": {
    "slideshow": {
     "slide_type": "slide"
    }
   },
   "source": [
    "## Exercise: Breaking a function\n",
    "\n",
    "Now, break the `min_max_scaler()` function, and check that your tests for that function fail."
   ]
  },
  {
   "cell_type": "markdown",
   "metadata": {
    "slideshow": {
     "slide_type": "slide"
    }
   },
   "source": [
    "## Exercise: Testing functions on textual data.\n",
    "\n",
    "Imagine we have textual data, and we want to clean it up. There are two functions we may want to write to standardize the data:\n",
    "\n",
    "- `bag_of_words(text)`, which takes in the text and tokenizes the text into its set of constituent words.\n",
    "- `strip_punctuation(text)`, which strips punctuation from the text.\n",
    "\n",
    "Design the tests first, and then implement the two functions in `datafuncs.py`; you may wish to write additional helper functions to manage the business logic. There's leeway in this exercise; feel free to get creative!"
   ]
  },
  {
   "cell_type": "markdown",
   "metadata": {},
   "source": [
    "### Write your tests\n",
    "\n",
    "```python\n",
    "def test_strip_punctuation():\n",
    "    text = 'random. stuff; typed, in-to th`is text^line'\n",
    "    t = strip_punctuation(text)\n",
    "    \n",
    "    assert set(t).isdisjoint(string.punctuation)\n",
    "\n",
    "test_strip_punctuation()\n",
    "\n",
    "def test_bag_of_words():\n",
    "    text = 'random stuff typed into this text line line'\n",
    "    text_bagged = bag_of_words(text)\n",
    "    assert len(text_bagged) == 7\n",
    "    assert ' ' not in text_bagged\n",
    "```"
   ]
  },
  {
   "cell_type": "markdown",
   "metadata": {},
   "source": [
    "### Implement the function\n",
    "\n",
    "```python\n",
    "import string\n",
    "def strip_punctuation(text):\n",
    "    exclude = string.punctuation\n",
    "    return ''.join(s for s in text if s not in exclude)\n",
    "\n",
    "t = \"hello world! This is my pleasure, and the 2nd time I've been to PyCon!\"\n",
    "\n",
    "def bag_of_words(text):\n",
    "    text = strip_punctuation(text)\n",
    "    words = set(text.split(' '))\n",
    "    return words\n",
    "```"
   ]
  },
  {
   "cell_type": "markdown",
   "metadata": {
    "slideshow": {
     "slide_type": "subslide"
    }
   },
   "source": [
    "### Run the test!\n",
    "\n",
    "```bash\n",
    "$ py.test\n",
    "============================= test session starts ==============================\n",
    "platform darwin -- Python 3.6.1, pytest-3.0.7, py-1.4.33, pluggy-0.4.0\n",
    "rootdir: /Users/ericmjl/github/tutorials/data-testing-tutorial, inifile:\n",
    "collected 3 items\n",
    "\n",
    "test_datafuncs.py ...\n",
    "\n",
    "=========================== 3 passed in 0.03 seconds ===========================\n",
    "```\n"
   ]
  },
  {
   "cell_type": "code",
   "execution_count": null,
   "metadata": {
    "collapsed": true
   },
   "outputs": [],
   "source": []
  }
 ],
 "metadata": {
  "celltoolbar": "Slideshow",
  "kernelspec": {
   "display_name": "Python 3",
   "language": "python",
   "name": "python3"
  },
  "language_info": {
   "codemirror_mode": {
    "name": "ipython",
    "version": 3
   },
   "file_extension": ".py",
   "mimetype": "text/x-python",
   "name": "python",
   "nbconvert_exporter": "python",
   "pygments_lexer": "ipython3",
   "version": "3.6.1"
  }
 },
 "nbformat": 4,
 "nbformat_minor": 2
}
