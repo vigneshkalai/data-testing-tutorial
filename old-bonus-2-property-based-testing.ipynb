{
 "cells": [
  {
   "cell_type": "markdown",
   "metadata": {
    "slideshow": {
     "slide_type": "slide"
    }
   },
   "source": [
    "# Property-based testing\n",
    "\n",
    "From the [Hypothesis]() docs:\n",
    "\n",
    "> It works by letting you write tests that assert that something should be true for every case, **not just the ones you happen to think of.**\n",
    "> \n",
    "> Think of a normal unit test as being something like the following:\n",
    "> \n",
    "> 1. Set up some data.\n",
    "> 1. Perform some operations on the data.\n",
    "> 1. Assert something about the result.\n",
    "> \n",
    "> Hypothesis lets you write tests which instead look like this:\n",
    "> \n",
    "> 1. For all data matching some specification.\n",
    "> 1. Perform some operations on the data.\n",
    "> 1. Assert something about the result.\n",
    "> \n",
    "> This is often called property based testing, and was popularised by the Haskell library Quickcheck.\n",
    "\n"
   ]
  },
  {
   "cell_type": "markdown",
   "metadata": {
    "slideshow": {
     "slide_type": "subslide"
    }
   },
   "source": [
    "## Example\n",
    "\n",
    "Here's an example with a standard test. Note how we've only tested a single value here.\n",
    "\n",
    "```python\n",
    "def increment(x):\n",
    "    return x + 1\n",
    "    \n",
    "def test_increment():\n",
    "    x = 10  # We've only tested one value here.\n",
    "    assert increment(x) - 1 == x\n",
    "```"
   ]
  },
  {
   "cell_type": "markdown",
   "metadata": {
    "slideshow": {
     "slide_type": "subslide"
    }
   },
   "source": [
    "Let's modify this test with a \"property-based\" test. In this case, we may choose to test it with a bunch of integers sampled using Hypothesis' `strategies` module. \n",
    "\n",
    "\n",
    "```python\n",
    "from hypothesis import given\n",
    "from hypothesis import strategies as st\n",
    "\n",
    "@given(st.integers())  # We are going to test a wide range of integers.\n",
    "def test_increment(x):\n",
    "    assert increment(x) - 1 == x\n",
    "```"
   ]
  },
  {
   "cell_type": "markdown",
   "metadata": {
    "slideshow": {
     "slide_type": "subslide"
    }
   },
   "source": [
    "## Exercise\n",
    "\n",
    "Take a challenge here: where possible (and using the Hypothesis documentation to help you), create \"property-based\" versions of one or more other functions in your `datafuncs.py` module."
   ]
  },
  {
   "cell_type": "markdown",
   "metadata": {
    "collapsed": true,
    "slideshow": {
     "slide_type": "slide"
    }
   },
   "source": [
    "# Encoding Assumptions\n",
    "\n",
    "Your functions take in data and output other data. There may be assumptions implicit in your choice of data. Hypothesis can help you make these assumptions explicit as you iteratively build the test. Let's take the example where we're computing the roots of a quadratic equation.\n",
    "\n",
    "To help you recall, a quadratic equation is of the form: \n",
    "\n",
    "$$ ax^2 + bx + c $$\n",
    "\n",
    "The roots of the equation are given by the formula:\n",
    "\n",
    "$$ \\frac{-a \\pm \\sqrt{b^2 - 4ac}}{2a}$$\n",
    "\n",
    "The discriminant $ D $ is the portion in the square root:\n",
    "\n",
    "$$ \\sqrt{b^2 - 4ac} $$\n",
    "\n",
    "If:\n",
    "\n",
    "- $ D > 0 $, the roots are real-valued.\n",
    "- $ D = 0 $, both roots are real-valued and identical.\n",
    "- $ D < 0 $, there are complex roots.\n",
    "\n",
    "We can thus write an `eq_roots(coefficients)` function that returns the non-complex roots of a polynomial equation. Given the requirements of the function definition, what would we expect of the function that can be encoded in a test? These expressions can be encoded in the `assume()` function from `hypothesis`."
   ]
  },
  {
   "cell_type": "markdown",
   "metadata": {},
   "source": [
    "# Exercise\n",
    "\n",
    "To get a feel for how to use the `assume()` function from hypothesis, uncomment the line indicated in the code block below, complete the `assume()` conditional, and copy/paste it to `test_datafuncs.py`."
   ]
  },
  {
   "cell_type": "markdown",
   "metadata": {},
   "source": [
    "```python\n",
    "# In test_datafuncs.py\n",
    "from hypothesis import assume\n",
    "\n",
    "@given(st.integers(), st.integers(), st.integers())\n",
    "def test_eq_roots(a, b, c):\n",
    "    # assumption here can mirror the assertion in\n",
    "    # the original function definition\n",
    "    discriminant = b**2 - 4*a*c\n",
    "    # Uncomment the following line.\n",
    "    # assume(discriminant...)\n",
    "    r1, r2 = eq_roots(coefficients)\n",
    "    assert r1 >= r2\n",
    "```"
   ]
  },
  {
   "cell_type": "markdown",
   "metadata": {},
   "source": [
    "Now what's left is implementing the function. Implement the function, such that its signature is `eq_roots(coefficients)`, and returns two values, `root1, root2`."
   ]
  },
  {
   "cell_type": "markdown",
   "metadata": {},
   "source": [
    "```python\n",
    "import math\n",
    "\n",
    "def eq_roots(coefficients):\n",
    "    \"\"\"\n",
    "    Returns the non-complex roots of a quadratic equation.\n",
    "    \"\"\"\n",
    "    ...\n",
    "    \n",
    "    return root1, root2\n",
    "```"
   ]
  },
  {
   "cell_type": "markdown",
   "metadata": {
    "collapsed": true
   },
   "source": [
    "Finally, run pytest. Look out to see if Hypothesis finds out a few edge cases you didn't already think about!\n",
    "\n",
    "```bash\n",
    "$ py.test\n",
    "```"
   ]
  },
  {
   "cell_type": "code",
   "execution_count": null,
   "metadata": {
    "collapsed": true
   },
   "outputs": [],
   "source": []
  }
 ],
 "metadata": {
  "kernelspec": {
   "display_name": "Python 3",
   "language": "python",
   "name": "python3"
  },
  "language_info": {
   "codemirror_mode": {
    "name": "ipython",
    "version": 3
   },
   "file_extension": ".py",
   "mimetype": "text/x-python",
   "name": "python",
   "nbconvert_exporter": "python",
   "pygments_lexer": "ipython3",
   "version": "3.6.1"
  }
 },
 "nbformat": 4,
 "nbformat_minor": 2
}
