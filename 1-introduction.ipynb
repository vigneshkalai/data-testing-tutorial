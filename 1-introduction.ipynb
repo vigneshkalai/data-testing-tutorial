{
 "cells": [
  {
   "cell_type": "markdown",
   "metadata": {},
   "source": [
    "# Data Exploration and Testing for Data Science\n",
    "\n",
    "Eric J. Ma\n",
    "\n",
    "Yulan I. Lin "
   ]
  },
  {
   "cell_type": "markdown",
   "metadata": {},
   "source": [
    "# How to use these notebooks\n",
    "\n",
    "- Follow along with Jupyter notebooks in GitHub: [github.com/y3l2n/data-testing-tutorial](https://github.com/y3l2n/data-testing-tutorial)\n",
    "- Most of what we will do is in Jupyter/iPython, the terminal & your favourite text editor."
   ]
  },
  {
   "cell_type": "markdown",
   "metadata": {},
   "source": [
    "# Before we begin"
   ]
  },
  {
   "cell_type": "code",
   "execution_count": 3,
   "metadata": {
    "collapsed": true
   },
   "outputs": [],
   "source": [
    "# basics of programming in python: functions, comprehensions, etc\n",
    "# best practices for using jupyter notebooks (not relying on magical global variables)\n",
    "# defensive programming\n",
    "# link to sw carpentry"
   ]
  },
  {
   "cell_type": "markdown",
   "metadata": {},
   "source": [
    "# Outline of the tutorial\n",
    "1. Data munging and exploration of JSON\n",
    "2. Data munging and exploration of relational databases\n",
    "3. Introduction to testing\n",
    "4. Hashing and integrity"
   ]
  },
  {
   "cell_type": "markdown",
   "metadata": {},
   "source": [
    "# Why start with data munging and exploration?"
   ]
  },
  {
   "cell_type": "markdown",
   "metadata": {},
   "source": [
    "* Most data isn't clean\n",
    "* Assumptions about data are key to data science + ML"
   ]
  },
  {
   "cell_type": "markdown",
   "metadata": {},
   "source": [
    "# Why tests?"
   ]
  },
  {
   "cell_type": "markdown",
   "metadata": {},
   "source": [
    "* Programmatically checking code\n",
    "* Making sure our changes don't break past code"
   ]
  },
  {
   "cell_type": "markdown",
   "metadata": {},
   "source": [
    "# Testing code"
   ]
  },
  {
   "cell_type": "markdown",
   "metadata": {},
   "source": [
    "* Test suites\n",
    "* Test coverage\n",
    "* How do we test?"
   ]
  },
  {
   "cell_type": "markdown",
   "metadata": {},
   "source": [
    "# Testing data"
   ]
  },
  {
   "cell_type": "markdown",
   "metadata": {
    "collapsed": true
   },
   "source": [
    "* Formalizing assumptions\n",
    "* Catching changes in data\n",
    "* API changes"
   ]
  },
  {
   "cell_type": "code",
   "execution_count": null,
   "metadata": {
    "collapsed": true
   },
   "outputs": [],
   "source": []
  }
 ],
 "metadata": {
  "kernelspec": {
   "display_name": "Python 3",
   "language": "python",
   "name": "python3"
  },
  "language_info": {
   "codemirror_mode": {
    "name": "ipython",
    "version": 3
   },
   "file_extension": ".py",
   "mimetype": "text/x-python",
   "name": "python",
   "nbconvert_exporter": "python",
   "pygments_lexer": "ipython3",
   "version": "3.6.1"
  }
 },
 "nbformat": 4,
 "nbformat_minor": 2
}
