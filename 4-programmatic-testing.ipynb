{
 "cells": [
  {
   "cell_type": "markdown",
   "metadata": {
    "collapsed": true
   },
   "source": [
    "# What is testing?\n",
    "- define\n",
    "- talk about coverage\n",
    "- TDD"
   ]
  },
  {
   "cell_type": "markdown",
   "metadata": {},
   "source": [
    "# What python modules do we use in test?\n",
    "* py.test\n",
    "* unittest\n"
   ]
  },
  {
   "cell_type": "code",
   "execution_count": null,
   "metadata": {
    "collapsed": true
   },
   "outputs": [],
   "source": [
    "# brief intro to testing syntax\n",
    "# how py.test works\n",
    "# how unittest works."
   ]
  },
  {
   "cell_type": "markdown",
   "metadata": {},
   "source": [
    "# What about testing data?\n",
    "- let's revisit some of the questions we came up with\n",
    "- write them out programmatically\n",
    "- hypothesis\n",
    "- YAML"
   ]
  },
  {
   "cell_type": "code",
   "execution_count": 1,
   "metadata": {
    "collapsed": true
   },
   "outputs": [],
   "source": [
    "# uniqueness\n",
    "# distribution\n",
    "# datatypes\n",
    "# encoding\n",
    "# (human ) language\n",
    "# whitespace"
   ]
  },
  {
   "cell_type": "markdown",
   "metadata": {},
   "source": [
    "# Interactive\n",
    "1. Write tests to double-check the datatypes of each thing in the sql database\n",
    "2. test for dataetime/string format?\n",
    "3. Write tests for JSON file #1. Does file #2 pass those test?\n",
    "4. Write tests to ensure that the data coming into your \"cleaning script\" from previously is what you expect, and that the output is also what you expect."
   ]
  },
  {
   "cell_type": "markdown",
   "metadata": {},
   "source": [
    "# What makes code reusable?\n",
    "- was the code you wrote earlier reusable?\n",
    "- how do we make it reusable?\n",
    "- structure of a python package that you might create for a \"common\" task at work"
   ]
  },
  {
   "cell_type": "markdown",
   "metadata": {},
   "source": [
    "# Let's make a data testing module!"
   ]
  },
  {
   "cell_type": "code",
   "execution_count": null,
   "metadata": {
    "collapsed": true
   },
   "outputs": [],
   "source": []
  }
 ],
 "metadata": {
  "kernelspec": {
   "display_name": "Python 3",
   "language": "python",
   "name": "python3"
  },
  "language_info": {
   "codemirror_mode": {
    "name": "ipython",
    "version": 3
   },
   "file_extension": ".py",
   "mimetype": "text/x-python",
   "name": "python",
   "nbconvert_exporter": "python",
   "pygments_lexer": "ipython3",
   "version": "3.6.1"
  }
 },
 "nbformat": 4,
 "nbformat_minor": 2
}
