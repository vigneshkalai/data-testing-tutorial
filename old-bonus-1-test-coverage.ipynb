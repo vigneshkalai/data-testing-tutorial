{
 "cells": [
  {
   "cell_type": "markdown",
   "metadata": {
    "collapsed": true,
    "slideshow": {
     "slide_type": "slide"
    }
   },
   "source": [
    "# Test Coverage\n",
    "\n",
    "Test coverage is defined as **the percentage of your code covered by a test.**\n",
    "\n",
    "Getting to high test coverage is a **good starting point**. It isn't the end point of testing. \n",
    "\n",
    "If you want more information on testing, I suggest checking out Itamar's talk at PyCon 2017."
   ]
  },
  {
   "cell_type": "markdown",
   "metadata": {},
   "source": [
    "## `pytest-coverage` \n",
    "\n",
    "Let's now introduce a plugin that you can use for checking test coverage: `pytest-coverage`. It is a plugin for `pytest` that tells you which lines of code haven't been tested.\n",
    "\n",
    "Relies on Ned Batchelder's `coverage` package! Be sure to support Ned!"
   ]
  },
  {
   "cell_type": "markdown",
   "metadata": {},
   "source": [
    "To run pytest with coverage at the terminal, run the following command.\n",
    "\n",
    "```bash\n",
    "$ py.test --cov\n",
    "============================= test session starts ==============================\n",
    "platform darwin -- Python 3.6.1, pytest-3.0.7, py-1.4.33, pluggy-0.4.0\n",
    "rootdir: /Users/ericmjl/github/tutorials/data-testing-tutorial, inifile:\n",
    "plugins: cov-2.3.1\n",
    "collected 3 items\n",
    "\n",
    "test_datafuncs.py ...\n",
    "\n",
    "---------- coverage: platform darwin, python 3.6.1-final-0 -----------\n",
    "Name                Stmts   Miss  Cover\n",
    "---------------------------------------\n",
    "datafuncs.py           10      0   100%\n",
    "test_datafuncs.py      11      0   100%\n",
    "---------------------------------------\n",
    "TOTAL                  21      0   100%\n",
    "\n",
    "\n",
    "=========================== 3 passed in 0.07 seconds ===========================\n",
    "```"
   ]
  },
  {
   "cell_type": "markdown",
   "metadata": {},
   "source": [
    "To see how many lines of code are tested, run the following command.\n",
    "\n",
    "```bash\n",
    "$ py.test --cov-report term-missing --cov\n",
    "============================= test session starts ==============================\n",
    "platform darwin -- Python 3.6.1, pytest-3.0.7, py-1.4.33, pluggy-0.4.0\n",
    "rootdir: /Users/ericmjl/github/tutorials/data-testing-tutorial, inifile:\n",
    "plugins: cov-2.3.1\n",
    "collected 3 items\n",
    "\n",
    "test_datafuncs.py ...\n",
    "\n",
    "---------- coverage: platform darwin, python 3.6.1-final-0 -----------\n",
    "Name                Stmts   Miss  Cover   Missing\n",
    "-------------------------------------------------\n",
    "datafuncs.py           10      0   100%\n",
    "test_datafuncs.py      11      0   100%\n",
    "-------------------------------------------------\n",
    "TOTAL                  21      0   100%\n",
    "\n",
    "\n",
    "=========================== 3 passed in 0.04 seconds ===========================\n",
    "```"
   ]
  },
  {
   "cell_type": "markdown",
   "metadata": {
    "collapsed": true
   },
   "source": [
    "## Exercise\n",
    "\n",
    "Let's now take a look at what the output might look like with untested lines of code. Let's implement another data processing function, a function that clips data to be within a particular range.\n",
    "\n",
    "First off, in contrast to what you've been doing before, first implement the function. It should:\n",
    "\n",
    "- have the function signature `clip(data, lower, upper)`, where:\n",
    "    - `data` is a numpy array-like data structure.\n",
    "    - `lower` is the lower-bound value.\n",
    "    - `upper` is the upper-bound value.\n",
    "- set any data points lower than `lower` to the value of `lower`\n",
    "- set any data points greater than `upper` to the value of `upper`\n",
    "\n",
    "**Note:** This function is available in the `numpy` library. I would not recommend re-implementing this one, as `numpy` is generally available as part of the core data science stack. However, for the purposes of practice, we will break the \"don't implement existing stuff\" rule."
   ]
  },
  {
   "cell_type": "markdown",
   "metadata": {},
   "source": [
    "```python\n",
    "# In datafuncs.py\n",
    "def clip(data, lower, upper):\n",
    "    data[data < lower] = lower\n",
    "    data[data > upper] = upper\n",
    "    return data\n",
    "```"
   ]
  },
  {
   "cell_type": "markdown",
   "metadata": {},
   "source": [
    "Now, run pytest.\n",
    "\n",
    "```bash\n",
    "$ py.test --cov-report term-missing --cov\n",
    "```\n",
    "\n",
    "You should see something like the following output.\n",
    "\n",
    "```bash\n",
    "test_datafuncs_soln.py .........\n",
    "\n",
    "---------- coverage: platform darwin, python 3.6.1-final-0 -----------\n",
    "Name                     Stmts   Miss  Cover   Missing\n",
    "------------------------------------------------------\n",
    "datafuncs_soln.py           21      3    86%   38-40\n",
    "test_datafunc_soln.py       63      0   100%\n",
    "------------------------------------------------------\n",
    "TOTAL                       84      3    96%\n",
    "```"
   ]
  },
  {
   "cell_type": "markdown",
   "metadata": {},
   "source": [
    "Inside `datafuncs.py`, lines 38-40 were missing a test. That corresponds exactly to the new `clip` function we implemented. Now, go write a test for the clip function and check test coverage."
   ]
  },
  {
   "cell_type": "markdown",
   "metadata": {},
   "source": [
    "Possible test:\n",
    "\n",
    "```python\n",
    "def test_clip():\n",
    "    data = np.arange(10)\n",
    "    arr = dfn.clip(data, 2, 8)\n",
    "    assert arr.min() == 2\n",
    "    assert arr.max() == 8\n",
    "    assert len(arr) == len(data)\n",
    "```"
   ]
  },
  {
   "cell_type": "markdown",
   "metadata": {},
   "source": [
    "Output from py.test:\n",
    "\n",
    "```bash\n",
    "test_datafuncs_soln.py ..........\n",
    "\n",
    "---------- coverage: platform darwin, python 3.6.1-final-0 -----------\n",
    "Name                     Stmts   Miss  Cover   Missing\n",
    "------------------------------------------------------\n",
    "datafuncs_soln.py           21      0   100%\n",
    "test_datafuncs_soln.py      69      0   100%\n",
    "------------------------------------------------------\n",
    "TOTAL                       90      0   100%\n",
    "```"
   ]
  },
  {
   "cell_type": "code",
   "execution_count": null,
   "metadata": {
    "collapsed": true
   },
   "outputs": [],
   "source": []
  }
 ],
 "metadata": {
  "celltoolbar": "Slideshow",
  "kernelspec": {
   "display_name": "Python 3",
   "language": "python",
   "name": "python3"
  },
  "language_info": {
   "codemirror_mode": {
    "name": "ipython",
    "version": 3
   },
   "file_extension": ".py",
   "mimetype": "text/x-python",
   "name": "python",
   "nbconvert_exporter": "python",
   "pygments_lexer": "ipython3",
   "version": "3.6.1"
  }
 },
 "nbformat": 4,
 "nbformat_minor": 2
}
