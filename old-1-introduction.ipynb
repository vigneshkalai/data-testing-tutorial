{
 "cells": [
  {
   "cell_type": "markdown",
   "metadata": {
    "slideshow": {
     "slide_type": "slide"
    }
   },
   "source": [
    "# Data Exploration and Testing for Data Science\n",
    "\n",
    "Eric J. Ma\n",
    "\n",
    "Yulan I. Lin \n",
    "- Google Analytics\n",
    "- y3l2n"
   ]
  },
  {
   "cell_type": "markdown",
   "metadata": {
    "slideshow": {
     "slide_type": "slide"
    }
   },
   "source": [
    "# How to use these notebooks\n",
    "\n",
    "- Follow along with Jupyter notebooks in GitHub: [ericmjl/data-testing-tutorial](https://github.com/ericmjl/data-testing-tutorial)\n",
    "- Most of what we will do is in Jupyter/iPython, the terminal & your favourite text editor."
   ]
  },
  {
   "cell_type": "markdown",
   "metadata": {
    "slideshow": {
     "slide_type": "slide"
    }
   },
   "source": [
    "# Outline of the tutorial\n",
    "1. Data munging, cleaning, and exploration\n",
    "2. Data testing"
   ]
  },
  {
   "cell_type": "markdown",
   "metadata": {
    "slideshow": {
     "slide_type": "slide"
    }
   },
   "source": [
    "# Why start with data munging?\n",
    "- It's hard to make useful assumptions about data we are unfamiliar with\n",
    "- Testing "
   ]
  },
  {
   "cell_type": "markdown",
   "metadata": {
    "slideshow": {
     "slide_type": "slide"
    }
   },
   "source": [
    "# Why tests?\n",
    "\n",
    "- We make assumptions about our code & data. \n",
    "- There are cases where those assumptions are violated.\n",
    "- Therefore, automated testing of those assumptions is important."
   ]
  },
  {
   "cell_type": "markdown",
   "metadata": {
    "slideshow": {
     "slide_type": "slide"
    }
   },
   "source": [
    "# Tests: A Definition\n",
    "\n",
    "> A contract between your current self and your future self.\n",
    "> What you expect to be right now should hold true in the future.\n",
    "> What you expect to be wrong now should still be wrong in the future.\n",
    "> Unless the requirements have changed!"
   ]
  },
  {
   "cell_type": "markdown",
   "metadata": {
    "slideshow": {
     "slide_type": "slide"
    }
   },
   "source": [
    "# Lets discuss!\n",
    "\n",
    "What needs to be tested for:\n",
    "\n",
    "- code?\n",
    "- data?\n",
    "- statistics?"
   ]
  },
  {
   "cell_type": "markdown",
   "metadata": {
    "slideshow": {
     "slide_type": "slide"
    }
   },
   "source": [
    "## For code, what needs to be tested?\n",
    "\n",
    "- Given some example input(s), the output is correct.\n",
    "- Counter-examples should show up as incorrect.\n",
    "- Boundary cases are accounted for using defensive programming.\n",
    "- All lines of stable code are subject to at least one test."
   ]
  },
  {
   "cell_type": "markdown",
   "metadata": {
    "slideshow": {
     "slide_type": "slide"
    }
   },
   "source": [
    "## For data, what needs to be tested?\n",
    "\n",
    "- Data types are appropriate. (Types)\n",
    "- Data has not been tampered with. (Integrity)\n",
    "- Missing values are accounted for. (Completeness)\n",
    "- Data schema is complete. (Structure)"
   ]
  },
  {
   "cell_type": "markdown",
   "metadata": {
    "slideshow": {
     "slide_type": "slide"
    }
   },
   "source": [
    "## For statistical analysis & ML, what else needs to be done?\n",
    "\n",
    "- Underlying distributions for real-valued (numeric; integer or floats) data.\n",
    "- Classifying data as categorical, ordinal, count, compositional, or continuous.\n",
    "- Categorical/ordinal values represented as strings should be converted to numerical representations."
   ]
  },
  {
   "cell_type": "markdown",
   "metadata": {
    "slideshow": {
     "slide_type": "slide"
    }
   },
   "source": [
    "## What you can expect\n",
    "\n",
    "### Coding\n",
    "\n",
    "- You'll be implementing only simple functions. Nothing complicated.\n",
    "- Sample solutions are in the `*_soln.py` files."
   ]
  },
  {
   "cell_type": "markdown",
   "metadata": {
    "slideshow": {
     "slide_type": "subslide"
    }
   },
   "source": [
    "### Tutorial Material\n",
    "\n",
    "- Covered with interspersed lectures.\n",
    "- Simple exercises designed to get you familiar with how to write tests.\n",
    "- Give you a set of tools + code to bootstrap testing for another project."
   ]
  },
  {
   "cell_type": "markdown",
   "metadata": {
    "slideshow": {
     "slide_type": "subslide"
    }
   },
   "source": [
    "### Bonus Material\n",
    "\n",
    "- Self-paced material for the final hour of the tutorial or at home.\n",
    "- More complex topics on the topic of testing.\n",
    "    - File integrity\n",
    "    - Test coverage\n",
    "    - Property-based tests\n",
    "- More superpowers for data testing!"
   ]
  },
  {
   "cell_type": "markdown",
   "metadata": {
    "slideshow": {
     "slide_type": "slide"
    }
   },
   "source": [
    "# Take-Homes\n",
    "\n",
    "- You'll get a ton of practice with [`pytest`](https://docs.pytest.org/en/latest/) and assertion statements.\n",
    "- You'll will be left with self-paced learning material for [`hypothesis`](https://hypothesis.readthedocs.io/en/latest/) to do property-based testing.\n",
    "- You will have a starter set of tools for writing tests for your code and data."
   ]
  },
  {
   "cell_type": "markdown",
   "metadata": {
    "slideshow": {
     "slide_type": "subslide"
    }
   },
   "source": [
    "**If anything, I want you to not be afraid to write a test.** If that's all you take back, this tutorial can be deemed a success."
   ]
  },
  {
   "cell_type": "markdown",
   "metadata": {
    "slideshow": {
     "slide_type": "slide"
    }
   },
   "source": [
    "# Let's get going!"
   ]
  }
 ],
 "metadata": {
  "celltoolbar": "Slideshow",
  "kernelspec": {
   "display_name": "Python 3",
   "language": "python",
   "name": "python3"
  },
  "language_info": {
   "codemirror_mode": {
    "name": "ipython",
    "version": 3
   },
   "file_extension": ".py",
   "mimetype": "text/x-python",
   "name": "python",
   "nbconvert_exporter": "python",
   "pygments_lexer": "ipython3",
   "version": "3.6.1"
  }
 },
 "nbformat": 4,
 "nbformat_minor": 2
}
